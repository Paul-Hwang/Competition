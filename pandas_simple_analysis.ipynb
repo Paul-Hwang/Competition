{
 "cells": [
  {
   "cell_type": "code",
   "execution_count": 1,
   "metadata": {},
   "outputs": [],
   "source": [
    "import pandas as pd"
   ]
  },
  {
   "cell_type": "code",
   "execution_count": 2,
   "metadata": {},
   "outputs": [],
   "source": [
    "user_log = pd.read_csv('../RS6/L11/data_format1_small/sample_user_log.csv')"
   ]
  },
  {
   "cell_type": "code",
   "execution_count": 3,
   "metadata": {},
   "outputs": [
    {
     "name": "stdout",
     "output_type": "stream",
     "text": [
      "<class 'pandas.core.frame.DataFrame'>\n",
      "RangeIndex: 2473905 entries, 0 to 2473904\n",
      "Data columns (total 7 columns):\n",
      "user_id        2473905 non-null int64\n",
      "item_id        2473905 non-null int64\n",
      "cat_id         2473905 non-null int64\n",
      "seller_id      2473905 non-null int64\n",
      "brand_id       2469756 non-null float64\n",
      "time_stamp     2473905 non-null int64\n",
      "action_type    2473905 non-null int64\n",
      "dtypes: float64(1), int64(6)\n",
      "memory usage: 132.1 MB\n",
      "None\n",
      "----------------------------------------------------------------------------------------------------\n",
      "user_id         19112\n",
      "item_id        374662\n",
      "cat_id           1299\n",
      "seller_id        4994\n",
      "brand_id         6817\n",
      "time_stamp        186\n",
      "action_type         4\n",
      "dtype: int64\n",
      "----------------------------------------------------------------------------------------------------\n",
      "   user_id  item_id  cat_id  seller_id  brand_id  time_stamp  action_type\n",
      "0    89355   664924    1429       3136     579.0        1111            2\n",
      "1    89355   131438    1505        780     516.0        1110            0\n",
      "2    89355   673082    1429       3136     579.0        1110            0\n",
      "3    89355   664924    1429       3136     579.0        1110            0\n",
      "4    89355   183665    1505        780     516.0        1110            0\n",
      "----------------------------------------------------------------------------------------------------\n",
      "         user_id  item_id  cat_id  seller_id  brand_id  time_stamp  \\\n",
      "2473900   263674   176091     389       4143    4594.0        1111   \n",
      "2473901   263674   794804     662       4143    4594.0        1111   \n",
      "2473902   263674   794804     662       4143    4594.0        1111   \n",
      "2473903   263674   176091     389       4143    4594.0        1111   \n",
      "2473904   263674   176091     389       4143    4594.0        1110   \n",
      "\n",
      "         action_type  \n",
      "2473900            0  \n",
      "2473901            0  \n",
      "2473902            0  \n",
      "2473903            0  \n",
      "2473904            0  \n"
     ]
    }
   ],
   "source": [
    "print(user_log.info(null_counts=True))\n",
    "print('-'*100)\n",
    "print(user_log.nunique())\n",
    "print('-'*100)\n",
    "print(user_log.head())\n",
    "print('-'*100)\n",
    "print(user_log.tail())"
   ]
  },
  {
   "cell_type": "code",
   "execution_count": 5,
   "metadata": {},
   "outputs": [
    {
     "name": "stdout",
     "output_type": "stream",
     "text": [
      "   user_id  interaction_counts\n",
      "0        9                  87\n",
      "1       21                 620\n",
      "2       22                 471\n",
      "3       45                  20\n",
      "4       48                  47\n",
      "----------------------------------------------------------------------------------------------------\n",
      "       user_id  interaction_counts\n",
      "19107   424069                 100\n",
      "19108   424074                  27\n",
      "19109   424076                  47\n",
      "19110   424110                  51\n",
      "19111   424139                  23\n",
      "----------------------------------------------------------------------------------------------------\n",
      "             user_id  interaction_counts\n",
      "count   19112.000000        19112.000000\n",
      "mean   212152.290864          129.442497\n",
      "std    122240.659279          179.364296\n",
      "min         9.000000            2.000000\n",
      "25%    106115.250000           37.000000\n",
      "50%    212636.500000           75.000000\n",
      "75%    317697.500000          151.000000\n",
      "max    424139.000000         4754.000000\n"
     ]
    }
   ],
   "source": [
    "user_interaction = user_log.groupby('user_id').size().reset_index()\n",
    "user_interaction.rename(columns={0: 'interaction_counts'}, inplace=True)\n",
    "print(user_interaction.head())\n",
    "print('-'*100)\n",
    "print(user_interaction.tail())\n",
    "print('-'*100)\n",
    "print(user_interaction.describe())"
   ]
  },
  {
   "cell_type": "code",
   "execution_count": null,
   "metadata": {},
   "outputs": [],
   "source": []
  }
 ],
 "metadata": {
  "kernelspec": {
   "display_name": "Python 3",
   "language": "python",
   "name": "python3"
  },
  "language_info": {
   "codemirror_mode": {
    "name": "ipython",
    "version": 3
   },
   "file_extension": ".py",
   "mimetype": "text/x-python",
   "name": "python",
   "nbconvert_exporter": "python",
   "pygments_lexer": "ipython3",
   "version": "3.7.4"
  }
 },
 "nbformat": 4,
 "nbformat_minor": 4
}
